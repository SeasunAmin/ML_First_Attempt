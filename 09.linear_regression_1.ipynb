{
 "cells": [
  {
   "cell_type": "markdown",
   "id": "09f0d5e0",
   "metadata": {},
   "source": [
    "# Linear Regression ML Algorithm"
   ]
  },
  {
   "cell_type": "code",
   "execution_count": 1,
   "id": "7926f007",
   "metadata": {},
   "outputs": [],
   "source": [
    "import numpy as np\n",
    "import pandas as pd\n",
    "import matplotlib.pyplot as plt"
   ]
  },
  {
   "cell_type": "code",
   "execution_count": 2,
   "id": "878b1840",
   "metadata": {},
   "outputs": [
    {
     "data": {
      "text/plain": [
       "(18, 2)"
      ]
     },
     "execution_count": 2,
     "metadata": {},
     "output_type": "execute_result"
    }
   ],
   "source": [
    "df = pd.read_csv(\"F:/ml_assets/dhaka_house_price.csv\")\n",
    "df.shape"
   ]
  },
  {
   "cell_type": "code",
   "execution_count": 3,
   "id": "83364114",
   "metadata": {},
   "outputs": [
    {
     "data": {
      "text/html": [
       "<div>\n",
       "<style scoped>\n",
       "    .dataframe tbody tr th:only-of-type {\n",
       "        vertical-align: middle;\n",
       "    }\n",
       "\n",
       "    .dataframe tbody tr th {\n",
       "        vertical-align: top;\n",
       "    }\n",
       "\n",
       "    .dataframe thead th {\n",
       "        text-align: right;\n",
       "    }\n",
       "</style>\n",
       "<table border=\"1\" class=\"dataframe\">\n",
       "  <thead>\n",
       "    <tr style=\"text-align: right;\">\n",
       "      <th></th>\n",
       "      <th>area</th>\n",
       "      <th>price</th>\n",
       "    </tr>\n",
       "  </thead>\n",
       "  <tbody>\n",
       "    <tr>\n",
       "      <th>0</th>\n",
       "      <td>2600</td>\n",
       "      <td>55000</td>\n",
       "    </tr>\n",
       "    <tr>\n",
       "      <th>1</th>\n",
       "      <td>3000</td>\n",
       "      <td>62000</td>\n",
       "    </tr>\n",
       "    <tr>\n",
       "      <th>2</th>\n",
       "      <td>3200</td>\n",
       "      <td>66000</td>\n",
       "    </tr>\n",
       "    <tr>\n",
       "      <th>3</th>\n",
       "      <td>3600</td>\n",
       "      <td>68000</td>\n",
       "    </tr>\n",
       "    <tr>\n",
       "      <th>4</th>\n",
       "      <td>4000</td>\n",
       "      <td>72500</td>\n",
       "    </tr>\n",
       "    <tr>\n",
       "      <th>5</th>\n",
       "      <td>2500</td>\n",
       "      <td>50000</td>\n",
       "    </tr>\n",
       "    <tr>\n",
       "      <th>6</th>\n",
       "      <td>2700</td>\n",
       "      <td>59000</td>\n",
       "    </tr>\n",
       "    <tr>\n",
       "      <th>7</th>\n",
       "      <td>1200</td>\n",
       "      <td>26000</td>\n",
       "    </tr>\n",
       "    <tr>\n",
       "      <th>8</th>\n",
       "      <td>5000</td>\n",
       "      <td>99000</td>\n",
       "    </tr>\n",
       "    <tr>\n",
       "      <th>9</th>\n",
       "      <td>2500</td>\n",
       "      <td>50000</td>\n",
       "    </tr>\n",
       "    <tr>\n",
       "      <th>10</th>\n",
       "      <td>2100</td>\n",
       "      <td>48000</td>\n",
       "    </tr>\n",
       "    <tr>\n",
       "      <th>11</th>\n",
       "      <td>1800</td>\n",
       "      <td>35000</td>\n",
       "    </tr>\n",
       "    <tr>\n",
       "      <th>12</th>\n",
       "      <td>3000</td>\n",
       "      <td>63000</td>\n",
       "    </tr>\n",
       "    <tr>\n",
       "      <th>13</th>\n",
       "      <td>3600</td>\n",
       "      <td>69000</td>\n",
       "    </tr>\n",
       "    <tr>\n",
       "      <th>14</th>\n",
       "      <td>4200</td>\n",
       "      <td>76000</td>\n",
       "    </tr>\n",
       "    <tr>\n",
       "      <th>15</th>\n",
       "      <td>5000</td>\n",
       "      <td>98000</td>\n",
       "    </tr>\n",
       "    <tr>\n",
       "      <th>16</th>\n",
       "      <td>1100</td>\n",
       "      <td>20000</td>\n",
       "    </tr>\n",
       "    <tr>\n",
       "      <th>17</th>\n",
       "      <td>1900</td>\n",
       "      <td>39000</td>\n",
       "    </tr>\n",
       "  </tbody>\n",
       "</table>\n",
       "</div>"
      ],
      "text/plain": [
       "     area   price\n",
       "0    2600   55000\n",
       "1    3000   62000\n",
       "2    3200   66000\n",
       "3    3600   68000\n",
       "4    4000   72500\n",
       "5    2500   50000\n",
       "6    2700   59000\n",
       "7    1200   26000\n",
       "8    5000   99000\n",
       "9    2500   50000\n",
       "10   2100   48000\n",
       "11   1800   35000\n",
       "12   3000   63000\n",
       "13   3600   69000\n",
       "14   4200   76000\n",
       "15   5000   98000\n",
       "16   1100   20000\n",
       "17   1900   39000"
      ]
     },
     "execution_count": 3,
     "metadata": {},
     "output_type": "execute_result"
    }
   ],
   "source": [
    "df"
   ]
  },
  {
   "cell_type": "code",
   "execution_count": 4,
   "id": "5391d7ec",
   "metadata": {},
   "outputs": [
    {
     "data": {
      "text/plain": [
       "(array([[2600],\n",
       "        [3000],\n",
       "        [3200],\n",
       "        [3600],\n",
       "        [4000],\n",
       "        [2500],\n",
       "        [2700],\n",
       "        [1200],\n",
       "        [5000],\n",
       "        [2500],\n",
       "        [2100],\n",
       "        [1800],\n",
       "        [3000],\n",
       "        [3600],\n",
       "        [4200],\n",
       "        [5000],\n",
       "        [1100],\n",
       "        [1900]], dtype=int64),\n",
       " array([55000, 62000, 66000, 68000, 72500, 50000, 59000, 26000, 99000,\n",
       "        50000, 48000, 35000, 63000, 69000, 76000, 98000, 20000, 39000],\n",
       "       dtype=int64))"
      ]
     },
     "execution_count": 4,
     "metadata": {},
     "output_type": "execute_result"
    }
   ],
   "source": [
    "x = df.iloc[:,:-1].values\n",
    "y = df.iloc[:,1].values\n",
    "x,y"
   ]
  },
  {
   "cell_type": "code",
   "execution_count": 5,
   "id": "dc82a9c7",
   "metadata": {},
   "outputs": [
    {
     "data": {
      "text/plain": [
       "Text(0.5, 1.0, 'Dhaka home price')"
      ]
     },
     "execution_count": 5,
     "metadata": {},
     "output_type": "execute_result"
    },
    {
     "data": {
      "image/png": "[encoded data removed]",
      "text/plain": [
       "<Figure size 432x288 with 1 Axes>"
      ]
     },
     "metadata": {
      "needs_background": "light"
     },
     "output_type": "display_data"
    }
   ],
   "source": [
    "# originaldata values graph\n",
    "\n",
    "plt.scatter(x,y)\n",
    "plt.xlabel(\"area in sq\")\n",
    "plt.ylabel(\"price in tk\")\n",
    "plt.title(\"Dhaka home price\")"
   ]
  },
  {
   "cell_type": "code",
   "execution_count": 6,
   "id": "03d3a644",
   "metadata": {},
   "outputs": [],
   "source": [
    "#ML model trainig the dataset\n",
    "\n",
    "from sklearn.model_selection import train_test_split\n",
    "\n",
    "xtrain,xtest,ytrain,ytest = train_test_split(x,y,test_size=.30,random_state = 1)\n"
   ]
  },
  {
   "cell_type": "code",
   "execution_count": 7,
   "id": "a47e089c",
   "metadata": {},
   "outputs": [
    {
     "data": {
      "text/plain": [
       "array([[5000],\n",
       "       [4000],\n",
       "       [3000],\n",
       "       [2100],\n",
       "       [2600],\n",
       "       [1900],\n",
       "       [1100],\n",
       "       [2500],\n",
       "       [5000],\n",
       "       [3000],\n",
       "       [1800],\n",
       "       [2500]], dtype=int64)"
      ]
     },
     "execution_count": 7,
     "metadata": {},
     "output_type": "execute_result"
    }
   ],
   "source": [
    "xtrain"
   ]
  },
  {
   "cell_type": "code",
   "execution_count": 8,
   "id": "42033b91",
   "metadata": {},
   "outputs": [
    {
     "data": {
      "text/plain": [
       "array([[2700],\n",
       "       [3600],\n",
       "       [3600],\n",
       "       [3200],\n",
       "       [4200],\n",
       "       [1200]], dtype=int64)"
      ]
     },
     "execution_count": 8,
     "metadata": {},
     "output_type": "execute_result"
    }
   ],
   "source": [
    "xtest"
   ]
  },
  {
   "cell_type": "code",
   "execution_count": 9,
   "id": "5ce0ed20",
   "metadata": {},
   "outputs": [
    {
     "data": {
      "text/plain": [
       "array([98000, 72500, 62000, 48000, 55000, 39000, 20000, 50000, 99000,\n",
       "       63000, 35000, 50000], dtype=int64)"
      ]
     },
     "execution_count": 9,
     "metadata": {},
     "output_type": "execute_result"
    }
   ],
   "source": [
    "ytrain"
   ]
  },
  {
   "cell_type": "code",
   "execution_count": 10,
   "id": "66bee523",
   "metadata": {},
   "outputs": [
    {
     "data": {
      "text/plain": [
       "array([59000, 68000, 69000, 66000, 76000, 26000], dtype=int64)"
      ]
     },
     "execution_count": 10,
     "metadata": {},
     "output_type": "execute_result"
    }
   ],
   "source": [
    "ytest"
   ]
  },
  {
   "cell_type": "code",
   "execution_count": 11,
   "id": "2bcc2439",
   "metadata": {},
   "outputs": [
    {
     "data": {
      "text/plain": [
       "<function matplotlib.pyplot.show(close=None, block=None)>"
      ]
     },
     "execution_count": 11,
     "metadata": {},
     "output_type": "execute_result"
    },
    {
     "data": {
      "image/png": "[encoded data removed]",
      "text/plain": [
       "<Figure size 432x288 with 1 Axes>"
      ]
     },
     "metadata": {
      "needs_background": "light"
     },
     "output_type": "display_data"
    }
   ],
   "source": [
    "plt.scatter(xtest,ytest)\n",
    "\n",
    "plt.show"
   ]
  },
  {
   "cell_type": "code",
   "execution_count": 12,
   "id": "cc094003",
   "metadata": {},
   "outputs": [],
   "source": [
    "from sklearn.linear_model import LinearRegression"
   ]
  },
  {
   "cell_type": "code",
   "execution_count": 13,
   "id": "048b5d02",
   "metadata": {},
   "outputs": [
    {
     "data": {
      "text/plain": [
       "array([54294.39322956, 71423.22804896, 71423.22804896, 63810.41257367,\n",
       "       82842.4512619 , 25746.33519722])"
      ]
     },
     "execution_count": 13,
     "metadata": {},
     "output_type": "execute_result"
    }
   ],
   "source": [
    "lg = LinearRegression()\n",
    "\n",
    "lg.fit(xtrain,ytrain)\n",
    "\n",
    "\n",
    "x_predict = lg.predict(xtest)\n",
    "x_predict"
   ]
  },
  {
   "cell_type": "code",
   "execution_count": 14,
   "id": "8614e804",
   "metadata": {},
   "outputs": [
    {
     "data": {
      "text/plain": [
       "<function matplotlib.pyplot.show(close=None, block=None)>"
      ]
     },
     "execution_count": 14,
     "metadata": {},
     "output_type": "execute_result"
    },
    {
     "data": {
      "image/png": "[encoded data removed]",
      "text/plain": [
       "<Figure size 432x288 with 1 Axes>"
      ]
     },
     "metadata": {
      "needs_background": "light"
     },
     "output_type": "display_data"
    }
   ],
   "source": [
    "plt.scatter(xtest,ytest)\n",
    "plt.plot(xtest,x_predict)\n",
    "plt.show"
   ]
  },
  {
   "cell_type": "code",
   "execution_count": 15,
   "id": "c557c7ff",
   "metadata": {},
   "outputs": [
    {
     "data": {
      "text/plain": [
       "array([60004.00483603])"
      ]
     },
     "execution_count": 15,
     "metadata": {},
     "output_type": "execute_result"
    }
   ],
   "source": [
    "lg.predict([[3000]])\n"
   ]
  },
  {
   "cell_type": "code",
   "execution_count": 16,
   "id": "6dc6b40a",
   "metadata": {},
   "outputs": [
    {
     "name": "stdout",
     "output_type": "stream",
     "text": [
      "accuricy =  94.25569515720323\n"
     ]
    }
   ],
   "source": [
    "#pridection accuricy\n",
    "print(\"accuricy = \",lg.score(xtest,ytest)*100)"
   ]
  },
  {
   "cell_type": "code",
   "execution_count": 17,
   "id": "eee814e8",
   "metadata": {},
   "outputs": [
    {
     "data": {
      "text/plain": [
       "array([98068.08221248])"
      ]
     },
     "execution_count": 17,
     "metadata": {},
     "output_type": "execute_result"
    }
   ],
   "source": [
    "sq = 5000\n",
    "lg.predict([[sq]])"
   ]
  },
  {
   "cell_type": "code",
   "execution_count": null,
   "id": "f4aec007",
   "metadata": {},
   "outputs": [],
   "source": []
  },
  {
   "cell_type": "code",
   "execution_count": null,
   "id": "6898d983",
   "metadata": {},
   "outputs": [],
   "source": []
  }
 ],
 "metadata": {
  "kernelspec": {
   "display_name": "Python 3 (ipykernel)",
   "language": "python",
   "name": "python3"
  },
  "language_info": {
   "codemirror_mode": {
    "name": "ipython",
    "version": 3
   },
   "file_extension": ".py",
   "mimetype": "text/x-python",
   "name": "python",
   "nbconvert_exporter": "python",
   "pygments_lexer": "ipython3",
   "version": "3.9.12"
  },
  "varInspector": {
   "cols": {
    "lenName": 16,
    "lenType": 16,
    "lenVar": 40
   },
   "kernels_config": {
    "python": {
     "delete_cmd_postfix": "",
     "delete_cmd_prefix": "del ",
     "library": "var_list.py",
     "varRefreshCmd": "print(var_dic_list())"
    },
    "r": {
     "delete_cmd_postfix": ") ",
     "delete_cmd_prefix": "rm(",
     "library": "var_list.r",
     "varRefreshCmd": "cat(var_dic_list()) "
    }
   },
   "types_to_exclude": [
    "module",
    "function",
    "builtin_function_or_method",
    "instance",
    "_Feature"
   ],
   "window_display": false
  }
 },
 "nbformat": 4,
 "nbformat_minor": 5
}
