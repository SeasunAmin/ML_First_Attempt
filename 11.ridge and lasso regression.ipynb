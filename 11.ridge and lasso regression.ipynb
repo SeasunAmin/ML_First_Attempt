{
 "cells": [
  {
   "cell_type": "markdown",
   "id": "a50d958b",
   "metadata": {},
   "source": [
    "# Ridge and Lasso Regression"
   ]
  },
  {
   "cell_type": "code",
   "execution_count": 1,
   "id": "3b5624e1",
   "metadata": {},
   "outputs": [],
   "source": [
    "\n",
    "import numpy as np\n",
    "import pandas as pd\n",
    "import matplotlib.pyplot as plt\n"
   ]
  },
  {
   "cell_type": "code",
   "execution_count": 2,
   "id": "95670ad6",
   "metadata": {},
   "outputs": [
    {
     "data": {
      "text/html": [
       "<div>\n",
       "<style scoped>\n",
       "    .dataframe tbody tr th:only-of-type {\n",
       "        vertical-align: middle;\n",
       "    }\n",
       "\n",
       "    .dataframe tbody tr th {\n",
       "        vertical-align: top;\n",
       "    }\n",
       "\n",
       "    .dataframe thead th {\n",
       "        text-align: right;\n",
       "    }\n",
       "</style>\n",
       "<table border=\"1\" class=\"dataframe\">\n",
       "  <thead>\n",
       "    <tr style=\"text-align: right;\">\n",
       "      <th></th>\n",
       "      <th>area</th>\n",
       "      <th>price</th>\n",
       "    </tr>\n",
       "  </thead>\n",
       "  <tbody>\n",
       "    <tr>\n",
       "      <th>0</th>\n",
       "      <td>2600</td>\n",
       "      <td>55000</td>\n",
       "    </tr>\n",
       "    <tr>\n",
       "      <th>1</th>\n",
       "      <td>3000</td>\n",
       "      <td>56500</td>\n",
       "    </tr>\n",
       "    <tr>\n",
       "      <th>2</th>\n",
       "      <td>3200</td>\n",
       "      <td>61000</td>\n",
       "    </tr>\n",
       "    <tr>\n",
       "      <th>3</th>\n",
       "      <td>3600</td>\n",
       "      <td>68000</td>\n",
       "    </tr>\n",
       "    <tr>\n",
       "      <th>4</th>\n",
       "      <td>4000</td>\n",
       "      <td>72500</td>\n",
       "    </tr>\n",
       "    <tr>\n",
       "      <th>5</th>\n",
       "      <td>2500</td>\n",
       "      <td>45000</td>\n",
       "    </tr>\n",
       "    <tr>\n",
       "      <th>6</th>\n",
       "      <td>2700</td>\n",
       "      <td>38000</td>\n",
       "    </tr>\n",
       "    <tr>\n",
       "      <th>7</th>\n",
       "      <td>1200</td>\n",
       "      <td>21000</td>\n",
       "    </tr>\n",
       "    <tr>\n",
       "      <th>8</th>\n",
       "      <td>5000</td>\n",
       "      <td>100000</td>\n",
       "    </tr>\n",
       "    <tr>\n",
       "      <th>9</th>\n",
       "      <td>2500</td>\n",
       "      <td>50000</td>\n",
       "    </tr>\n",
       "    <tr>\n",
       "      <th>10</th>\n",
       "      <td>2100</td>\n",
       "      <td>46000</td>\n",
       "    </tr>\n",
       "    <tr>\n",
       "      <th>11</th>\n",
       "      <td>1800</td>\n",
       "      <td>35000</td>\n",
       "    </tr>\n",
       "    <tr>\n",
       "      <th>12</th>\n",
       "      <td>3000</td>\n",
       "      <td>58000</td>\n",
       "    </tr>\n",
       "    <tr>\n",
       "      <th>13</th>\n",
       "      <td>3600</td>\n",
       "      <td>63000</td>\n",
       "    </tr>\n",
       "  </tbody>\n",
       "</table>\n",
       "</div>"
      ],
      "text/plain": [
       "     area   price\n",
       "0    2600   55000\n",
       "1    3000   56500\n",
       "2    3200   61000\n",
       "3    3600   68000\n",
       "4    4000   72500\n",
       "5    2500   45000\n",
       "6    2700   38000\n",
       "7    1200   21000\n",
       "8    5000  100000\n",
       "9    2500   50000\n",
       "10   2100   46000\n",
       "11   1800   35000\n",
       "12   3000   58000\n",
       "13   3600   63000"
      ]
     },
     "execution_count": 2,
     "metadata": {},
     "output_type": "execute_result"
    }
   ],
   "source": [
    "df = pd.read_csv(\"F:/ml_assets/dhaka_house_price.csv\")\n",
    "df.shape\n",
    "df"
   ]
  },
  {
   "cell_type": "code",
   "execution_count": 3,
   "id": "6c00d42e",
   "metadata": {},
   "outputs": [
    {
     "data": {
      "text/plain": [
       "(array([[2600],\n",
       "        [3000],\n",
       "        [3200],\n",
       "        [3600],\n",
       "        [4000],\n",
       "        [2500],\n",
       "        [2700],\n",
       "        [1200],\n",
       "        [5000],\n",
       "        [2500],\n",
       "        [2100],\n",
       "        [1800],\n",
       "        [3000],\n",
       "        [3600]], dtype=int64),\n",
       " array([ 55000,  56500,  61000,  68000,  72500,  45000,  38000,  21000,\n",
       "        100000,  50000,  46000,  35000,  58000,  63000], dtype=int64))"
      ]
     },
     "execution_count": 3,
     "metadata": {},
     "output_type": "execute_result"
    }
   ],
   "source": [
    "x = df.iloc[:,:-1].values\n",
    "y = df.iloc[:,1].values\n",
    "x,y"
   ]
  },
  {
   "cell_type": "code",
   "execution_count": 4,
   "id": "c0a87711",
   "metadata": {},
   "outputs": [
    {
     "data": {
      "text/plain": [
       "Text(0.5, 1.0, 'Dhaka home price')"
      ]
     },
     "execution_count": 4,
     "metadata": {},
     "output_type": "execute_result"
    },
    {
     "data": {
      "image/png": "[encoded data removed]",
      "text/plain": [
       "<Figure size 432x288 with 1 Axes>"
      ]
     },
     "metadata": {
      "needs_background": "light"
     },
     "output_type": "display_data"
    }
   ],
   "source": [
    "\n",
    "plt.scatter(x,y)\n",
    "plt.xlabel(\"area in sq\")\n",
    "plt.ylabel(\"price in tk\")\n",
    "plt.title(\"Dhaka home price\")"
   ]
  },
  {
   "cell_type": "code",
   "execution_count": 5,
   "id": "7dca9ab9",
   "metadata": {},
   "outputs": [],
   "source": [
    "#ML model trainig the dataset\n",
    "\n",
    "from sklearn.model_selection import train_test_split\n",
    "\n",
    "xtrain,xtest,ytrain,ytest = train_test_split(x,y,test_size=.30,random_state = 1)"
   ]
  },
  {
   "cell_type": "code",
   "execution_count": 6,
   "id": "ef71514d",
   "metadata": {},
   "outputs": [
    {
     "data": {
      "text/plain": [
       "array([[4000],\n",
       "       [3000],\n",
       "       [3000],\n",
       "       [2600],\n",
       "       [3600],\n",
       "       [2500],\n",
       "       [5000],\n",
       "       [1800],\n",
       "       [2500]], dtype=int64)"
      ]
     },
     "execution_count": 6,
     "metadata": {},
     "output_type": "execute_result"
    }
   ],
   "source": [
    "xtrain"
   ]
  },
  {
   "cell_type": "code",
   "execution_count": 7,
   "id": "28974e76",
   "metadata": {},
   "outputs": [
    {
     "data": {
      "text/plain": [
       "array([[3600],\n",
       "       [1200],\n",
       "       [2700],\n",
       "       [3200],\n",
       "       [2100]], dtype=int64)"
      ]
     },
     "execution_count": 7,
     "metadata": {},
     "output_type": "execute_result"
    }
   ],
   "source": [
    "xtest"
   ]
  },
  {
   "cell_type": "code",
   "execution_count": 8,
   "id": "fabbe05d",
   "metadata": {},
   "outputs": [
    {
     "data": {
      "text/plain": [
       "array([ 72500,  56500,  58000,  55000,  63000,  50000, 100000,  35000,\n",
       "        45000], dtype=int64)"
      ]
     },
     "execution_count": 8,
     "metadata": {},
     "output_type": "execute_result"
    }
   ],
   "source": [
    "ytrain"
   ]
  },
  {
   "cell_type": "code",
   "execution_count": 9,
   "id": "61050151",
   "metadata": {},
   "outputs": [
    {
     "data": {
      "text/plain": [
       "array([68000, 21000, 38000, 61000, 46000], dtype=int64)"
      ]
     },
     "execution_count": 9,
     "metadata": {},
     "output_type": "execute_result"
    }
   ],
   "source": [
    "ytest"
   ]
  },
  {
   "cell_type": "code",
   "execution_count": 10,
   "id": "722d2d66",
   "metadata": {},
   "outputs": [],
   "source": [
    "from sklearn.linear_model import LinearRegression"
   ]
  },
  {
   "cell_type": "code",
   "execution_count": 49,
   "id": "d38c7cef",
   "metadata": {},
   "outputs": [
    {
     "data": {
      "text/plain": [
       "array([68715.14968249, 23204.41487753, 51648.62413063, 61130.027215  ,\n",
       "       40270.94042939])"
      ]
     },
     "execution_count": 49,
     "metadata": {},
     "output_type": "execute_result"
    }
   ],
   "source": [
    "lr = LinearRegression()\n",
    "\n",
    "lr.fit(xtrain,ytrain)\n",
    "\n",
    "\n",
    "x_predict = lr.predict(xtest)\n",
    "x_predict"
   ]
  },
  {
   "cell_type": "code",
   "execution_count": 22,
   "id": "7ca56bf5",
   "metadata": {},
   "outputs": [
    {
     "data": {
      "text/plain": [
       "array([68000, 21000, 38000, 61000, 46000], dtype=int64)"
      ]
     },
     "execution_count": 22,
     "metadata": {},
     "output_type": "execute_result"
    }
   ],
   "source": [
    "ytest"
   ]
  },
  {
   "cell_type": "code",
   "execution_count": 56,
   "id": "43e85e7e",
   "metadata": {},
   "outputs": [
    {
     "data": {
      "image/png": "[encoded data removed]",
      "text/plain": [
       "<Figure size 432x288 with 1 Axes>"
      ]
     },
     "metadata": {
      "needs_background": "light"
     },
     "output_type": "display_data"
    }
   ],
   "source": [
    "#original value and predict value graph\n",
    "\n",
    "plt.plot(xtest,x_predict)\n",
    "plt.scatter(x,y)\n",
    "plt.xlabel(\"area in sq\")\n",
    "plt.ylabel(\"price in tk\")\n",
    "plt.title(\"Dhaka home price\")\n",
    "plt.show()"
   ]
  },
  {
   "cell_type": "code",
   "execution_count": 18,
   "id": "f48c682e",
   "metadata": {},
   "outputs": [
    {
     "name": "stdout",
     "output_type": "stream",
     "text": [
      "predect price : [30789.53734503]\n",
      "Accuracy : 83.90487128476214\n"
     ]
    }
   ],
   "source": [
    "print(\"predect price :\",lr.predict([[1600]]))\n",
    "\n",
    "#pridection accuricy\n",
    "\n",
    "print(\"Accuracy :\", lr.score(xtest,ytest)*100)"
   ]
  },
  {
   "cell_type": "markdown",
   "id": "d9f8f9c8",
   "metadata": {},
   "source": [
    "# Implementing ridge and lasso algorithm"
   ]
  },
  {
   "cell_type": "code",
   "execution_count": 13,
   "id": "25048635",
   "metadata": {},
   "outputs": [],
   "source": [
    "from sklearn.linear_model import Ridge,Lasso"
   ]
  },
  {
   "cell_type": "code",
   "execution_count": 14,
   "id": "12177755",
   "metadata": {},
   "outputs": [
    {
     "name": "stdout",
     "output_type": "stream",
     "text": [
      "Accuracy :  83.90486992683877\n"
     ]
    }
   ],
   "source": [
    "rg = Ridge()\n",
    "\n",
    "rg.fit(xtrain,ytrain)\n",
    "print(\"Accuracy : \", rg.score(xtest,ytest)*100)"
   ]
  },
  {
   "cell_type": "code",
   "execution_count": 15,
   "id": "78d9c1f7",
   "metadata": {},
   "outputs": [
    {
     "name": "stdout",
     "output_type": "stream",
     "text": [
      "Accuracy :  83.90487064027418\n"
     ]
    }
   ],
   "source": [
    "ls = Lasso()\n",
    "\n",
    "ls.fit(xtrain,ytrain)\n",
    "print(\"Accuracy : \", ls.score(xtest,ytest)*100)\n"
   ]
  },
  {
   "cell_type": "code",
   "execution_count": 16,
   "id": "9d3563c1",
   "metadata": {},
   "outputs": [
    {
     "name": "stdout",
     "output_type": "stream",
     "text": [
      "Accuracy :  83.90486856891089\n"
     ]
    }
   ],
   "source": [
    "rg_2 = Ridge(alpha=2)\n",
    "\n",
    "rg_2.fit(xtrain,ytrain)\n",
    "print(\"Accuracy : \", rg_2.score(xtest,ytest)*100)"
   ]
  },
  {
   "cell_type": "code",
   "execution_count": 17,
   "id": "5dc52c96",
   "metadata": {},
   "outputs": [
    {
     "name": "stdout",
     "output_type": "stream",
     "text": [
      "Accuracy :  83.90486999578508\n"
     ]
    }
   ],
   "source": [
    "ls_2 = Lasso(alpha=2)\n",
    "\n",
    "ls_2.fit(xtrain,ytrain)\n",
    "print(\"Accuracy : \", ls_2.score(xtest,ytest)*100)"
   ]
  },
  {
   "cell_type": "markdown",
   "id": "6967c9fa",
   "metadata": {},
   "source": [
    "# Root mean Square error"
   ]
  },
  {
   "cell_type": "code",
   "execution_count": 32,
   "id": "b5568e2c",
   "metadata": {},
   "outputs": [
    {
     "data": {
      "text/plain": [
       "array([68715.14968249, 23204.41487753, 51648.62413063, 61130.027215  ,\n",
       "       40270.94042939])"
      ]
     },
     "execution_count": 32,
     "metadata": {},
     "output_type": "execute_result"
    }
   ],
   "source": [
    "y_predict = lr.predict(xtest)\n",
    "y_predict"
   ]
  },
  {
   "cell_type": "code",
   "execution_count": 24,
   "id": "996ff5e5",
   "metadata": {},
   "outputs": [
    {
     "data": {
      "text/plain": [
       "array([68000, 21000, 38000, 61000, 46000], dtype=int64)"
      ]
     },
     "execution_count": 24,
     "metadata": {},
     "output_type": "execute_result"
    }
   ],
   "source": [
    "ytest"
   ]
  },
  {
   "cell_type": "code",
   "execution_count": 28,
   "id": "59557264",
   "metadata": {},
   "outputs": [],
   "source": [
    "#importing the libary\n",
    "\n",
    "from sklearn.metrics import mean_squared_error"
   ]
  },
  {
   "cell_type": "code",
   "execution_count": 34,
   "id": "72829c09",
   "metadata": {},
   "outputs": [],
   "source": [
    "mse = mean_squared_error(ytest,y_predict)\n",
    "rmse = np.sqrt(mse)"
   ]
  },
  {
   "cell_type": "code",
   "execution_count": 43,
   "id": "8b0326ba",
   "metadata": {},
   "outputs": [
    {
     "name": "stdout",
     "output_type": "stream",
     "text": [
      "MSE :  44898971.06402753\n",
      "RMSE :  6700.6694489451975\n"
     ]
    }
   ],
   "source": [
    "print(\"MSE : \",mse)\n",
    "print(\"RMSE : \",rmse)"
   ]
  },
  {
   "cell_type": "code",
   "execution_count": 45,
   "id": "cc8b1d5e",
   "metadata": {},
   "outputs": [
    {
     "name": "stdout",
     "output_type": "stream",
     "text": [
      "MSE :  448.98971064027535\n",
      "RMSE :  67.00669448945197\n"
     ]
    }
   ],
   "source": [
    "print(\"MSE : \",mse/100000)\n",
    "print(\"RMSE : \",rmse/100)"
   ]
  },
  {
   "cell_type": "code",
   "execution_count": null,
   "id": "2eb8ffed",
   "metadata": {},
   "outputs": [],
   "source": []
  }
 ],
 "metadata": {
  "kernelspec": {
   "display_name": "Python 3 (ipykernel)",
   "language": "python",
   "name": "python3"
  },
  "language_info": {
   "codemirror_mode": {
    "name": "ipython",
    "version": 3
   },
   "file_extension": ".py",
   "mimetype": "text/x-python",
   "name": "python",
   "nbconvert_exporter": "python",
   "pygments_lexer": "ipython3",
   "version": "3.9.12"
  },
  "varInspector": {
   "cols": {
    "lenName": 16,
    "lenType": 16,
    "lenVar": 40
   },
   "kernels_config": {
    "python": {
     "delete_cmd_postfix": "",
     "delete_cmd_prefix": "del ",
     "library": "var_list.py",
     "varRefreshCmd": "print(var_dic_list())"
    },
    "r": {
     "delete_cmd_postfix": ") ",
     "delete_cmd_prefix": "rm(",
     "library": "var_list.r",
     "varRefreshCmd": "cat(var_dic_list()) "
    }
   },
   "types_to_exclude": [
    "module",
    "function",
    "builtin_function_or_method",
    "instance",
    "_Feature"
   ],
   "window_display": false
  }
 },
 "nbformat": 4,
 "nbformat_minor": 5
}
