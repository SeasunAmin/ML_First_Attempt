{
 "cells": [
  {
   "cell_type": "markdown",
   "id": "61ec9852",
   "metadata": {},
   "source": [
    "# Polynomial Regression"
   ]
  },
  {
   "cell_type": "code",
   "execution_count": 1,
   "id": "9f685a36",
   "metadata": {},
   "outputs": [],
   "source": [
    "import numpy as np\n",
    "import pandas as pd\n",
    "import matplotlib.pyplot as plt\n",
    "\n",
    "from sklearn.linear_model import LinearRegression"
   ]
  },
  {
   "cell_type": "code",
   "execution_count": 2,
   "id": "5727a543",
   "metadata": {},
   "outputs": [
    {
     "data": {
      "text/plain": [
       "(14, 2)"
      ]
     },
     "execution_count": 2,
     "metadata": {},
     "output_type": "execute_result"
    }
   ],
   "source": [
    "df = pd.read_csv(\"F:/ml_assets/dhaka_house_price.csv\")\n",
    "df.shape"
   ]
  },
  {
   "cell_type": "code",
   "execution_count": 3,
   "id": "c5838a14",
   "metadata": {},
   "outputs": [
    {
     "data": {
      "text/plain": [
       "(array([[2600],\n",
       "        [3000],\n",
       "        [3200],\n",
       "        [3600],\n",
       "        [4000],\n",
       "        [2500],\n",
       "        [2700],\n",
       "        [1200],\n",
       "        [5000],\n",
       "        [2500],\n",
       "        [2100],\n",
       "        [1800],\n",
       "        [3000],\n",
       "        [3600]], dtype=int64),\n",
       " array([ 55000,  56500,  61000,  68000,  72500,  45000,  38000,  21000,\n",
       "        100000,  50000,  46000,  35000,  58000,  63000], dtype=int64))"
      ]
     },
     "execution_count": 3,
     "metadata": {},
     "output_type": "execute_result"
    }
   ],
   "source": [
    "x = df.iloc[:,:-1].values\n",
    "y = df.iloc[:,1].values\n",
    "x,y"
   ]
  },
  {
   "cell_type": "code",
   "execution_count": 4,
   "id": "d9ea4c88",
   "metadata": {},
   "outputs": [
    {
     "data": {
      "text/plain": [
       "Text(0.5, 1.0, 'Dhaka home price')"
      ]
     },
     "execution_count": 4,
     "metadata": {},
     "output_type": "execute_result"
    },
    {
     "data": {
      "image/png": "[encoded data removed]",
      "text/plain": [
       "<Figure size 432x288 with 1 Axes>"
      ]
     },
     "metadata": {
      "needs_background": "light"
     },
     "output_type": "display_data"
    }
   ],
   "source": [
    "# originaldata values graph\n",
    "\n",
    "plt.scatter(x,y)\n",
    "plt.xlabel(\"area in sq\")\n",
    "plt.ylabel(\"price in tk\")\n",
    "plt.title(\"Dhaka home price\")"
   ]
  },
  {
   "cell_type": "code",
   "execution_count": 5,
   "id": "7c84a5a1",
   "metadata": {},
   "outputs": [],
   "source": [
    "#ML model trainig the dataset\n",
    "\n",
    "from sklearn.model_selection import train_test_split\n",
    "\n",
    "xtrain,xtest,ytrain,ytest = train_test_split(x,y,test_size=.30,random_state = 1)\n"
   ]
  },
  {
   "cell_type": "code",
   "execution_count": 6,
   "id": "a6646fd2",
   "metadata": {},
   "outputs": [
    {
     "data": {
      "text/plain": [
       "array([[4000],\n",
       "       [3000],\n",
       "       [3000],\n",
       "       [2600],\n",
       "       [3600],\n",
       "       [2500],\n",
       "       [5000],\n",
       "       [1800],\n",
       "       [2500]], dtype=int64)"
      ]
     },
     "execution_count": 6,
     "metadata": {},
     "output_type": "execute_result"
    }
   ],
   "source": [
    "xtrain"
   ]
  },
  {
   "cell_type": "code",
   "execution_count": 25,
   "id": "57cab1ae",
   "metadata": {},
   "outputs": [
    {
     "name": "stdout",
     "output_type": "stream",
     "text": [
      "before freature scalling shape : (9, 1)\n"
     ]
    }
   ],
   "source": [
    "print(\"before freature scalling shape :\",xtrain.shape)"
   ]
  },
  {
   "cell_type": "code",
   "execution_count": 7,
   "id": "aaf641de",
   "metadata": {},
   "outputs": [
    {
     "data": {
      "text/plain": [
       "array([[3600],\n",
       "       [1200],\n",
       "       [2700],\n",
       "       [3200],\n",
       "       [2100]], dtype=int64)"
      ]
     },
     "execution_count": 7,
     "metadata": {},
     "output_type": "execute_result"
    }
   ],
   "source": [
    "xtest"
   ]
  },
  {
   "cell_type": "code",
   "execution_count": 8,
   "id": "562b2459",
   "metadata": {},
   "outputs": [
    {
     "data": {
      "text/plain": [
       "array([ 72500,  56500,  58000,  55000,  63000,  50000, 100000,  35000,\n",
       "        45000], dtype=int64)"
      ]
     },
     "execution_count": 8,
     "metadata": {},
     "output_type": "execute_result"
    }
   ],
   "source": [
    "ytrain"
   ]
  },
  {
   "cell_type": "code",
   "execution_count": 9,
   "id": "2e748c8e",
   "metadata": {},
   "outputs": [
    {
     "data": {
      "text/plain": [
       "array([68000, 21000, 38000, 61000, 46000], dtype=int64)"
      ]
     },
     "execution_count": 9,
     "metadata": {},
     "output_type": "execute_result"
    }
   ],
   "source": [
    "ytest"
   ]
  },
  {
   "cell_type": "code",
   "execution_count": 18,
   "id": "7bc9256b",
   "metadata": {},
   "outputs": [
    {
     "name": "stdout",
     "output_type": "stream",
     "text": [
      "predict value : [68715.14968249 23204.41487753 51648.62413063 61130.027215\n",
      " 40270.94042939]\n",
      "accuricy =  83.90487128476214\n"
     ]
    }
   ],
   "source": [
    "lr = LinearRegression()\n",
    "\n",
    "lr.fit(xtrain,ytrain)\n",
    "\n",
    "\n",
    "x_predict = lr.predict(xtest)\n",
    "print(\"predict value :\",x_predict)\n",
    "print(\"accuricy = \",lr.score(xtest,ytest)*100)"
   ]
  },
  {
   "cell_type": "code",
   "execution_count": null,
   "id": "e92aa95e",
   "metadata": {},
   "outputs": [],
   "source": []
  },
  {
   "cell_type": "code",
   "execution_count": 11,
   "id": "1bfb1196",
   "metadata": {},
   "outputs": [],
   "source": [
    "#freature scalling\n",
    "\n",
    "from sklearn.preprocessing import StandardScaler\n",
    "sc = StandardScaler()\n",
    "sc.fit(xtrain)\n",
    "xtrain = sc.transform(xtrain)\n",
    "xtest = sc.transform(xtest)"
   ]
  },
  {
   "cell_type": "markdown",
   "id": "a1660d65",
   "metadata": {},
   "source": [
    "# Plolynomial linear regression ML model Trainig"
   ]
  },
  {
   "cell_type": "code",
   "execution_count": 12,
   "id": "9ac12c76",
   "metadata": {},
   "outputs": [],
   "source": [
    "from sklearn.linear_model import LinearRegression\n",
    "from sklearn.preprocessing import PolynomialFeatures"
   ]
  },
  {
   "cell_type": "code",
   "execution_count": 13,
   "id": "4c00b3d9",
   "metadata": {},
   "outputs": [],
   "source": [
    "poly_reg = PolynomialFeatures(degree=2)\n",
    "poly_reg.fit(xtrain)\n",
    "xtrain_poly = poly_reg.transform(xtrain)\n",
    "xtest_poly = poly_reg.transform(xtest)"
   ]
  },
  {
   "cell_type": "code",
   "execution_count": 27,
   "id": "3e61c2a7",
   "metadata": {},
   "outputs": [
    {
     "name": "stdout",
     "output_type": "stream",
     "text": [
      "after freature scalling shape : (9, 3)\n"
     ]
    }
   ],
   "source": [
    "print(\"after freature scalling shape :\",xtrain_poly.shape)"
   ]
  },
  {
   "cell_type": "code",
   "execution_count": 22,
   "id": "4f09cfe5",
   "metadata": {},
   "outputs": [
    {
     "data": {
      "text/plain": [
       "LinearRegression()"
      ]
     },
     "execution_count": 22,
     "metadata": {},
     "output_type": "execute_result"
    }
   ],
   "source": [
    "lr.fit(xtrain_poly,ytrain)"
   ]
  },
  {
   "cell_type": "code",
   "execution_count": 28,
   "id": "b6abd81c",
   "metadata": {},
   "outputs": [
    {
     "data": {
      "text/plain": [
       "0.7969973058215725"
      ]
     },
     "execution_count": 28,
     "metadata": {},
     "output_type": "execute_result"
    }
   ],
   "source": [
    "lr.score(xtest_poly,ytest)"
   ]
  },
  {
   "cell_type": "code",
   "execution_count": null,
   "id": "d2f1bcec",
   "metadata": {},
   "outputs": [],
   "source": []
  },
  {
   "cell_type": "code",
   "execution_count": null,
   "id": "56f868e6",
   "metadata": {},
   "outputs": [],
   "source": []
  }
 ],
 "metadata": {
  "kernelspec": {
   "display_name": "Python 3 (ipykernel)",
   "language": "python",
   "name": "python3"
  },
  "language_info": {
   "codemirror_mode": {
    "name": "ipython",
    "version": 3
   },
   "file_extension": ".py",
   "mimetype": "text/x-python",
   "name": "python",
   "nbconvert_exporter": "python",
   "pygments_lexer": "ipython3",
   "version": "3.9.12"
  },
  "varInspector": {
   "cols": {
    "lenName": 16,
    "lenType": 16,
    "lenVar": 40
   },
   "kernels_config": {
    "python": {
     "delete_cmd_postfix": "",
     "delete_cmd_prefix": "del ",
     "library": "var_list.py",
     "varRefreshCmd": "print(var_dic_list())"
    },
    "r": {
     "delete_cmd_postfix": ") ",
     "delete_cmd_prefix": "rm(",
     "library": "var_list.r",
     "varRefreshCmd": "cat(var_dic_list()) "
    }
   },
   "types_to_exclude": [
    "module",
    "function",
    "builtin_function_or_method",
    "instance",
    "_Feature"
   ],
   "window_display": false
  }
 },
 "nbformat": 4,
 "nbformat_minor": 5
}
